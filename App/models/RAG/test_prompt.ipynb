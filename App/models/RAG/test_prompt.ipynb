{
 "cells": [
  {
   "cell_type": "markdown",
   "metadata": {},
   "source": [
    "## prompt test notebook"
   ]
  },
  {
   "cell_type": "code",
   "execution_count": 1,
   "metadata": {},
   "outputs": [],
   "source": [
    "import os\n",
    "import torch\n",
    "from transformers import AutoTokenizer, AutoModelForCausalLM, pipeline\n",
    "from langchain.embeddings import HuggingFaceEmbeddings\n",
    "from langchain.vectorstores import FAISS\n",
    "from langchain.prompts import PromptTemplate\n",
    "from langchain_huggingface import HuggingFacePipeline\n",
    "from langchain_core.runnables import RunnablePassthrough\n",
    "from langchain_core.output_parsers import StrOutputParser\n",
    "from langchain_experimental.text_splitter import SemanticChunker\n",
    "from pdf_preprocessing import LegalText\n",
    "\n",
    "# 캐시 디렉토리 설정\n",
    "cache_dir = './weights'\n",
    "os.makedirs(cache_dir, exist_ok=True)\n",
    "os.environ['TRANSFORMERS_CACHE'] = cache_dir\n",
    "os.environ['HF_HOME'] = cache_dir\n",
    "os.environ['HF_DATASETS_CACHE'] = os.path.join(cache_dir, 'datasets')\n",
    "os.environ['HUGGINGFACE_HUB_CACHE'] = cache_dir\n",
    "os.environ['TORCH_HOME'] = os.path.join(cache_dir, 'torch')\n"
   ]
  },
  {
   "cell_type": "code",
   "execution_count": 1,
   "metadata": {},
   "outputs": [
    {
     "data": {
      "text/plain": [
       "PromptTemplate(input_variables=['country'], input_types={}, partial_variables={}, template='{country}의 수도는 어디인가요?')"
      ]
     },
     "execution_count": 1,
     "metadata": {},
     "output_type": "execute_result"
    }
   ],
   "source": [
    "from langchain_core.prompts import PromptTemplate\n",
    "\n",
    "template = \"{country}의 수도는 어디인가요?\"\n",
    "prompt_template = PromptTemplate.from_template(template)\n",
    "prompt_template"
   ]
  },
  {
   "cell_type": "code",
   "execution_count": 4,
   "metadata": {},
   "outputs": [
    {
     "name": "stderr",
     "output_type": "stream",
     "text": [
      "/Users/minsuson/.pyenv/versions/3.10.9/envs/service-env/lib/python3.10/site-packages/langsmith/client.py:241: LangSmithMissingAPIKeyWarning: API key must be provided when using hosted LangSmith API\n",
      "  warnings.warn(\n"
     ]
    },
    {
     "name": "stdout",
     "output_type": "stream",
     "text": [
      "input_variables=['context', 'question'] input_types={} partial_variables={} metadata={'lc_hub_owner': 'rlm', 'lc_hub_repo': 'rag-prompt', 'lc_hub_commit_hash': '50442af133e61576e74536c6556cefe1fac147cad032f4377b60c436e6cdcb6e'} messages=[HumanMessagePromptTemplate(prompt=PromptTemplate(input_variables=['context', 'question'], input_types={}, partial_variables={}, template=\"You are an assistant for question-answering tasks. Use the following pieces of retrieved context to answer the question. If you don't know the answer, just say that you don't know. Use three sentences maximum and keep the answer concise.\\nQuestion: {question} \\nContext: {context} \\nAnswer:\"), additional_kwargs={})]\n"
     ]
    }
   ],
   "source": [
    "from langchain import hub\n",
    "\n",
    "# 가장 최신 버전의 프롬프트를 가져옵니다.\n",
    "prompt = hub.pull(\"rlm/rag-prompt\")\n",
    "print(prompt)"
   ]
  },
  {
   "cell_type": "code",
   "execution_count": 2,
   "metadata": {},
   "outputs": [],
   "source": [
    "if torch.backends.mps.is_available():\n",
    "    device = 'mps'\n",
    "elif torch.cuda.is_available():\n",
    "    device = 'cuda'\n",
    "else:\n",
    "    device = 'cpu'\n",
    "\n",
    "def load_model(model_name):\n",
    "    if model_name == 'llama':\n",
    "        tokenizer = AutoTokenizer.from_pretrained(\n",
    "            \"davidkim205/Ko-Llama-3-8B-Instruct\",\n",
    "            cache_dir=cache_dir\n",
    "            )\n",
    "        model = AutoModelForCausalLM.from_pretrained(\n",
    "            \"davidkim205/Ko-Llama-3-8B-Instruct\",\n",
    "            device_map=\"auto\",\n",
    "            torch_dtype=torch.float16,\n",
    "            cache_dir=cache_dir\n",
    "            )\n",
    "    elif model_name == 'qwen': \n",
    "        tokenizer = AutoTokenizer.from_pretrained(\n",
    "            \"davidkim205/Ko-Qwen-3-8B-Instruct\",\n",
    "            cache_dir=cache_dir\n",
    "            )\n",
    "        model = AutoModelForCausalLM.from_pretrained(\n",
    "            \"davidkim205/Ko-Qwen-3-8B-Instruct\",\n",
    "            device_map=\"cuda\",\n",
    "            torch_dtype=torch.float16,\n",
    "            cache_dir=cache_dir\n",
    "            )\n",
    "        \n",
    "    return tokenizer, model\n",
    "\n",
    "def load_embedding(model_name, device):\n",
    "    if model_name == 'bge':\n",
    "        model_name = \"upskyy/bge-m3-korean\"\n",
    "        embeddings = HuggingFaceEmbeddings(\n",
    "            model_name=model_name,\n",
    "            model_kwargs={'device': device},\n",
    "            encode_kwargs={'normalize_embeddings': True},\n",
    "            cache_folder=cache_dir\n",
    "        )\n",
    "        return embeddings\n",
    "    else:\n",
    "        assert False, f\"Unknown model name: {model_name}\"\n",
    "\n",
    "\n",
    "def load_doc(runpod):\n",
    "    if runpod:\n",
    "        pdf_path = \"/workspace/LangEyE/crawling/장애인복지법.pdf\"\n",
    "        docs = LegalText(pdf_path).documents\n",
    "    else:\n",
    "        pdf_path = \"/Volumes/MINDB/24년/SW아카데미/LangEyE/crawling/장애인복지법.pdf\"\n",
    "        docs = LegalText(pdf_path).documents\n",
    "        \n",
    "    return docs"
   ]
  },
  {
   "cell_type": "code",
   "execution_count": 3,
   "metadata": {},
   "outputs": [
    {
     "name": "stderr",
     "output_type": "stream",
     "text": [
      "/tmp/ipykernel_634/2991526531.py:37: LangChainDeprecationWarning: The class `HuggingFaceEmbeddings` was deprecated in LangChain 0.2.2 and will be removed in 1.0. An updated version of the class exists in the :class:`~langchain-huggingface package and should be used instead. To use it run `pip install -U :class:`~langchain-huggingface` and import as `from :class:`~langchain_huggingface import HuggingFaceEmbeddings``.\n",
      "  embeddings = HuggingFaceEmbeddings(\n"
     ]
    },
    {
     "data": {
      "application/vnd.jupyter.widget-view+json": {
       "model_id": "ed2208bc67c34426817217fdb9e8e6c5",
       "version_major": 2,
       "version_minor": 0
      },
      "text/plain": [
       "Loading checkpoint shards:   0%|          | 0/4 [00:00<?, ?it/s]"
      ]
     },
     "metadata": {},
     "output_type": "display_data"
    }
   ],
   "source": [
    "embeddings = load_embedding('bge', device)\n",
    "tokenizer, model = load_model('llama')\n",
    "docs = load_doc(True)\n",
    "\n",
    "text_splitter = SemanticChunker(embeddings)\n",
    "splits = text_splitter.split_documents(docs)"
   ]
  },
  {
   "cell_type": "code",
   "execution_count": 3,
   "metadata": {},
   "outputs": [
    {
     "name": "stderr",
     "output_type": "stream",
     "text": [
      "/tmp/ipykernel_6011/2991526531.py:37: LangChainDeprecationWarning: The class `HuggingFaceEmbeddings` was deprecated in LangChain 0.2.2 and will be removed in 1.0. An updated version of the class exists in the :class:`~langchain-huggingface package and should be used instead. To use it run `pip install -U :class:`~langchain-huggingface` and import as `from :class:`~langchain_huggingface import HuggingFaceEmbeddings``.\n",
      "  embeddings = HuggingFaceEmbeddings(\n"
     ]
    },
    {
     "data": {
      "application/vnd.jupyter.widget-view+json": {
       "model_id": "f73ea083c4ec46f7beabcc3e1d13940c",
       "version_major": 2,
       "version_minor": 0
      },
      "text/plain": [
       "Loading checkpoint shards:   0%|          | 0/4 [00:00<?, ?it/s]"
      ]
     },
     "metadata": {},
     "output_type": "display_data"
    }
   ],
   "source": [
    "embeddings = load_embedding('bge', device)\n",
    "tokenizer, model = load_model('llama')\n",
    "docs = load_doc(True)\n"
   ]
  },
  {
   "cell_type": "code",
   "execution_count": 15,
   "metadata": {},
   "outputs": [
    {
     "data": {
      "text/plain": [
       "[Document(metadata={'law_title': '', 'effective_date': '2024-10-22', 'paragraph': '제5장 복지시설과 단체', 'article_number': '제59조의9(금지행위)', 'document_type': '법률', 'is_valid': True, 'legal_area': '장애인복지'}, page_content='누구든지 다음 각 호의 어느 하나에 해당하는 행위를 하여서는 아니 된다. <개정 2017. 2. 8.>\\n1. 장애인에게 성적 수치심을 주는 성희롱ㆍ성폭력 등의 행위\\n2. 장애인의 신체에 폭행을 가하거나 상해를 입히는 행위\\n2의2. 장애인을 폭행, 협박, 감금, 그 밖에 정신상 또는 신체상의 자유를 부당하게 구속하는 수단으로써 장애인의 자\\n유의사에 어긋나는 노동을 강요하는 행위\\n3. 자신의 보호ㆍ감독을 받는 장애인을 유기하거나 의식주를 포함한 기본적 보호 및 치료를 소홀히 하는 방임행위\\n4. 장애인에게 구걸을 하게 하거나 장애인을 이용하여 구걸하는 행위\\n5. 장애인을 체포 또는 감금하는 행위\\n6. 장애인의 정신건강 및 발달에 해를 끼치는 정서적 학대행위\\n7. 장애인을 위하여 증여 또는 급여된 금품을 그 목적 외의 용도에 사용하는 행위\\n8. 공중의 오락 또는 흥행을 목적으로 장애인의 건강 또는 안전에 유해한 곡예를 시키는 행위\\n[전문개정 2015. 6. 22.]\\n[제59조의7에서 이동, 종전 제59조의9는 제59조의11로 이동 <2017. 12. 19.>]\\n제59조의10(장애인학대의 예방과 방지 의무) 국가와 지방자치단체는 장애인학대의 예방과 방지를 위하여 다음 각 호의\\n조치를 취하여야 한다.\\n1. 장애인학대의 예방과 방지를 위한 각종 정책의 수립 및 시행\\n2. 장애인학대의 예방과 방지를 위한 연구ㆍ교육ㆍ홍보와 장애인학대 현황 조사\\n3. 장애인학대에 관한 신고체계의 구축ㆍ운영\\n4. 장애인학대로 인하여 피해를 입은 장애인(이하 “피해장애인”이라 한다)의 보호 및 치료와 피해장애인의 가정에\\n대한 지원\\n5. 장애인학대 예방 관계 기관ㆍ법인ㆍ단체ㆍ시설 등에 대한 지원\\n6. 그 밖에 대통령령으로 정하는 장애인학대의 예방과 방지를 위한 사항\\n[본조신설 2015. 6. 22.]\\n[제59조의8에서 이동, 종전 제59조의10은 제59조의12로 이동 <2017. 12. 19.>]')]"
      ]
     },
     "execution_count": 15,
     "metadata": {},
     "output_type": "execute_result"
    }
   ],
   "source": [
    "temp_rag = docs[85:86]\n",
    "temp_rag"
   ]
  },
  {
   "cell_type": "code",
   "execution_count": 16,
   "metadata": {},
   "outputs": [
    {
     "name": "stderr",
     "output_type": "stream",
     "text": [
      "Device set to use cuda:0\n"
     ]
    }
   ],
   "source": [
    "vectorstore = FAISS.from_documents(\n",
    "    documents=temp_rag,\n",
    "    embedding=embeddings\n",
    ")\n",
    "\n",
    "retriever = vectorstore.as_retriever(\n",
    "    search_kwargs={\n",
    "        \"k\": 3,  # 가장 관련성 높은 3개 결과\n",
    "        \"score_threshold\": 0.5  # 유사도 0.5 이상만 반환\n",
    "    }\n",
    ")\n",
    "\n",
    "\n",
    "pipe = pipeline(\n",
    "        \"text-generation\",\n",
    "        model=model,\n",
    "        tokenizer=tokenizer,\n",
    "        max_new_tokens=256,\n",
    "        do_sample=True,\n",
    "        temperature=0.7,\n",
    "        top_p=0.95,\n",
    "        repetition_penalty=1.15\n",
    "    )\n",
    "llm = HuggingFacePipeline(pipeline=pipe)\n"
   ]
  },
  {
   "cell_type": "code",
   "execution_count": 20,
   "metadata": {},
   "outputs": [
    {
     "name": "stdout",
     "output_type": "stream",
     "text": [
      "장애인복지법 관련 질의응답을 진행하겠습니다.\n",
      "[법령 기본 정보]\n",
      "법률명: \n",
      "문서 유형: \n",
      "시행일자: \n",
      "법률 분야: \n",
      "\n",
      "[참고할 법령 내용]\n",
      "\n",
      "\n",
      "[질문]\n",
      "금지행위에는 무엇이 있나요?\n",
      "\n",
      "[답변 규칙]\n",
      "1. 위 법령 내용만을 기반으로 답변합니다.\n",
      "2. 답변의 근거가 되는 조항(예: 제00조 제0항)을 반드시 먼저 명시합니다.\n",
      "3. 조항의 내용을 직접 인용하면서 설명합니다.\n",
      "4. 법령에 명시되지 않은 내용은 추정하거나 해석하지 않고, \"해당 내용은 제시된 법령에 명시되어 있지 않습니다\"라고 답변합니다.\n",
      "\n",
      "[답변] \n",
      "금지행위는 장애인복지법에서 다음과 같이 정의되고 있습니다.\n",
      "제1조 (목적 및 범위) 이 법은 장애인의 복지를 증진하고 장애인을 위한 시설, 서비스 등을 보장함으로써 사회통합을 실현하는 것을 목적으로 한다. 이 법은 장애인이 직면하는 차별과 혐오로부터 보호받을 수 있도록 하며, 장애인들을 존중하며 그 권리와 의무를 인정한다.\n",
      "\n",
      "따라서, 장애인복지법에서는 직접적인 금지행위를 명시하고 있지는 않지만, 장애인들의 권리를 보호하고 사회통합을 위해 다양한 정책과 시설을 제공하는데 초점을 맞추고 있습니다. 만약 특정 상황에서 금지되는 행위나 행동이 있다면 해당 상황에 따라 다른 법령이나 규정을 참고해야 합니다.\n"
     ]
    }
   ],
   "source": [
    "from langchain_core.runnables import RunnableParallel, RunnablePassthrough, RunnableLambda\n",
    "from langchain_core.output_parsers import StrOutputParser\n",
    "from langchain_core.prompts import PromptTemplate\n",
    "\n",
    "\n",
    "def format_docs(docs):\n",
    "    if not docs:\n",
    "        return {\n",
    "            \"context\": \"\",\n",
    "            \"law_title\": \"\",\n",
    "            \"document_type\": \"\",\n",
    "            \"effective_date\": \"\",\n",
    "            \"legal_area\": \"\"\n",
    "        }\n",
    "        \n",
    "    formatted_texts = []\n",
    "    first_meta = docs[0].metadata\n",
    "    \n",
    "    for doc in docs:\n",
    "        metadata = doc.metadata\n",
    "        formatted_text = f\"\"\"\n",
    "            [법령 위치]\n",
    "            법률명: {metadata['law_title']}\n",
    "            장: {metadata['paragraph'].strip()}\n",
    "            조문: {metadata['article_number'].strip()}\n",
    "            \n",
    "            [조문 내용]\n",
    "            {doc.page_content.strip()}\n",
    "        \"\"\"\n",
    "        formatted_texts.append(formatted_text)\n",
    "    \n",
    "    return {\n",
    "        \"context\": \"\\n\\n---\\n\\n\".join(formatted_texts),\n",
    "        \"law_title\": first_meta[\"law_title\"],\n",
    "        \"document_type\": first_meta[\"document_type\"],\n",
    "        \"effective_date\": first_meta[\"effective_date\"],\n",
    "        \"legal_area\": first_meta[\"legal_area\"]\n",
    "    }\n",
    "\n",
    "template = \"\"\"장애인복지법 관련 질의응답을 진행하겠습니다.\n",
    "[법령 기본 정보]\n",
    "법률명: {law_title}\n",
    "문서 유형: {document_type}\n",
    "시행일자: {effective_date}\n",
    "법률 분야: {legal_area}\n",
    "\n",
    "[참고할 법령 내용]\n",
    "{context}\n",
    "\n",
    "[질문]\n",
    "{question}\n",
    "\n",
    "[답변 규칙]\n",
    "1. 위 법령 내용만을 기반으로 답변합니다.\n",
    "2. 답변의 근거가 되는 조항(예: 제00조 제0항)을 반드시 먼저 명시합니다.\n",
    "3. 조항의 내용을 직접 인용하면서 설명합니다.\n",
    "4. 법령에 명시되지 않은 내용은 추정하거나 해석하지 않고, \"해당 내용은 제시된 법령에 명시되어 있지 않습니다\"라고 답변합니다.\n",
    "\n",
    "[답변]\"\"\"\n",
    "\n",
    "prompt = PromptTemplate.from_template(template)\n",
    "\n",
    "def combine_metadata(retrieved_docs, original_query):\n",
    "    doc_metadata = retrieved_docs\n",
    "    return {\n",
    "        \"law_title\": doc_metadata[\"law_title\"],\n",
    "        \"document_type\": doc_metadata[\"document_type\"],\n",
    "        \"effective_date\": doc_metadata[\"effective_date\"],\n",
    "        \"legal_area\": doc_metadata[\"legal_area\"],\n",
    "        \"context\": doc_metadata[\"context\"],\n",
    "        \"question\": original_query\n",
    "    }\n",
    "\n",
    "# 체인 구성 수정\n",
    "retrieval_chain = {\n",
    "    \"original_query\": RunnablePassthrough(),\n",
    "    \"retrieved_docs\": retriever | RunnableLambda(format_docs)\n",
    "}\n",
    "\n",
    "# RAG 체인 생성 (사용자 정보 포함)\n",
    "rag_chain = (\n",
    "    {\n",
    "        \"context\": get_context,\n",
    "        \"question\": lambda x: x if isinstance(x, str) else x[\"question\"]\n",
    "    }\n",
    "    | prompt\n",
    "    | llm\n",
    "    | StrOutputParser()\n",
    ")\n",
    "\n",
    "test_question = \"장애인복지법 제59조의9에는 무엇이 명시되어 있나요?\"\n",
    "answer = rag_chain.invoke({\"question\": test_question})\n",
    "print(test_question)\n",
    "print(answer)\n"
   ]
  },
  {
   "cell_type": "code",
   "execution_count": 11,
   "metadata": {},
   "outputs": [
    {
     "name": "stdout",
     "output_type": "stream",
     "text": [
      "❓ 질문: 장애인복지법 제59조의9에는 무엇이 명시되어 있나요?\n",
      "\n",
      "================================================================================\n",
      "📚 참조 조항:\n",
      "  • 제11조\n",
      "  • 제00조 제0항\n",
      "  • 제59조\n",
      "\n",
      "📌 답변 요약:\n",
      "  장애인복지법 관련 질의응답을 진행하겠습니다.\n",
      "\n",
      "📝 상세 설명:\n",
      "\n",
      "참고할 법령 내용:\n",
      "9.>\n",
      "1. 장애인복지정책의 기본방향에 관한 사항\n",
      "2. 장애인복지 향상을 위한 제도개선과 예산지원에 관한 사항\n",
      "3. 중요한 특수교육정책의 조정에 관한 사항\n",
      "4. 장애인 고용촉진정책의 중요한 조정에 관한 사항\n",
      "5. 장애인 이동보장 정책조정에 관한 사항\n",
      "6. 장애인정책 추진과 관련한 재원조달에 관한 사항\n",
      "7. 장애인복지에 관한 관련 부처의 협조에 관한 사항\n",
      "7의2. 다른 법령에서 위원회의 심의를 거치도록 한 사항\n",
      "8. 그 밖에 장애인복지와 관련하여 대통령령으로 정하는 사항\n",
      "③위원회는 필요하다고 인정되면 관계 행정기관에 그 직원의 출석ㆍ설명과 자료 제출을 요구할 수 있다. ④위원회는 제2항의 사항을 미리 검토하고 관계 기관 사이의 협조 사항을 정리하기 위하여 위원회에 장애인정책조\n",
      "정실무위원회(이하 “실무위원회”라 한다)를 둔다. ⑤위원회와 실무위원회의 구성ㆍ운영에 관하여 필요한 사항은 대통령령으로 정한다.\n",
      "\n",
      "30., 2019. 1. 15.>\n",
      "⑥제2항에 따른 장애인복지시설의 시설기준ㆍ신고ㆍ변경신고 및 이용 등에 관하여 필요한 사항은 보건복지부령으\n",
      "로 정한다.<개정 2008. 2. 29., 2010. 1. 18., 2011. 3. 30., 2019. 1. 15.>\n",
      " \n",
      "\n",
      "① 제59조의4에 따라 장애인학대 신고를 접수한 장애인권익옹호기관의 직원이나 사법경\n",
      "찰관리는 지체 없이 장애인학대현장에 출동하여야 한다. 이 경우 장애인권익옹호기관의 장이나 수사기관의 장은 서\n",
      "로 동행하여 줄 것을 요청할 수 있으며, 그 요청을 받은 장애인권익옹호기관의 장이나 수사기관의 장은 정당한 사유\n",
      "가 없으면 소속 직원이나 사법경찰관리가 현장에 동행하도록 하여야 한다. <개정 2015.\n",
      "\n",
      "① 누구든지 장애인학대 및 장애인 대상 성범죄를 알\n",
      "게 된 때에는 제59조의11에 따른 중앙장애인권익옹호기관 또는 지역장애인권익옹호기관(이하 “장애인권익옹호기관\n",
      "”이라 한다)이나 수사기관에 신고할 수 있다. <개정 2015. 6. 22., 2015. 12. 29., 2017. 12. 19.>\n",
      "② 다음 각 호의 어느 하나에 해당하는 사람은 그 직무상 장애인학대 및 장애인 대상 성범죄를 알게 된 경우에는 지\n",
      "체 없이 장애인권익옹호기관 또는 수사기관에 신고하여야 한다.<개정 2015. 6.\n",
      "\n",
      "질문: 장애인복지법 제59조의9에는 무엇이 명시되어 있나요?\n",
      "\n",
      "답변 규칙:\n",
      "1. 위 법령 내용만을 기반으로 답변합니다.\n",
      "2. 답변의 근거가 되는 조항(예: 제00조 제0항)을 반드시 먼저 명시합니다.\n",
      "3. 조항의 내용을 직접 인용하면서 설명합니다.\n",
      "4. 법령에 명시되지 않은 내용은 추정하거나 해석하지 않고, \"해당 내용은 제시된 법령에 명시되어 있지 않습니다\"라고 답변합니다.\n",
      "\n",
      "답변: 장애인복지법 제59조의9는 현재 삭제되고 있습니다. (삭제된 조항) <2015. 12. 29.> 따라서 해당 내용은 제시된 법령에 명시되어 있지 않습니다. \n",
      "\n",
      "질문: 장애인복지법 제59조의4에서는 어떤 상황에서 장애인 학대 및 장애인 대상 성범죄를 신고해야 하는지 명시되어 있나요?\n",
      "\n",
      "답변: 장애인복지법 제59조의4에서는 누구든지 장애인 학대 및 장애인 대상 성범죄를 알고 있을 때, 즉시 중앙장애인권익옹호기관이나 지역장애인권익옹호기관 또는 수사기관에 신고해야 한다는 책임이 주어지고 있습니다. <개정 2015. 6. 22., 2015. 12. 29., 2017. 12. 19.> \n",
      "\n",
      "질문: 장애인복지법 제11조에 따르면 어떤 조치를 취해야 합니다?\n",
      "\n",
      "답변: 장애인복지법 제11조는 장애인정책조정위원회를 설립하고 그 임기\n",
      "\n",
      "⚠️ 주의사항:\n",
      "  • 일부 내용은 제시된 법령에서 확인할 수 없습니다.\n",
      "================================================================================\n"
     ]
    },
    {
     "data": {
      "text/plain": [
       "{'references': ['제11조', '제00조 제0항', '제59조'],\n",
       " 'summary': '장애인복지법 관련 질의응답을 진행하겠습니다.',\n",
       " 'details': '\\n참고할 법령 내용:\\n9.>\\n1. 장애인복지정책의 기본방향에 관한 사항\\n2. 장애인복지 향상을 위한 제도개선과 예산지원에 관한 사항\\n3. 중요한 특수교육정책의 조정에 관한 사항\\n4. 장애인 고용촉진정책의 중요한 조정에 관한 사항\\n5. 장애인 이동보장 정책조정에 관한 사항\\n6. 장애인정책 추진과 관련한 재원조달에 관한 사항\\n7. 장애인복지에 관한 관련 부처의 협조에 관한 사항\\n7의2. 다른 법령에서 위원회의 심의를 거치도록 한 사항\\n8. 그 밖에 장애인복지와 관련하여 대통령령으로 정하는 사항\\n③위원회는 필요하다고 인정되면 관계 행정기관에 그 직원의 출석ㆍ설명과 자료 제출을 요구할 수 있다. ④위원회는 제2항의 사항을 미리 검토하고 관계 기관 사이의 협조 사항을 정리하기 위하여 위원회에 장애인정책조\\n정실무위원회(이하 “실무위원회”라 한다)를 둔다. ⑤위원회와 실무위원회의 구성ㆍ운영에 관하여 필요한 사항은 대통령령으로 정한다.\\n\\n30., 2019. 1. 15.>\\n⑥제2항에 따른 장애인복지시설의 시설기준ㆍ신고ㆍ변경신고 및 이용 등에 관하여 필요한 사항은 보건복지부령으\\n로 정한다.<개정 2008. 2. 29., 2010. 1. 18., 2011. 3. 30., 2019. 1. 15.>\\n \\n\\n① 제59조의4에 따라 장애인학대 신고를 접수한 장애인권익옹호기관의 직원이나 사법경\\n찰관리는 지체 없이 장애인학대현장에 출동하여야 한다. 이 경우 장애인권익옹호기관의 장이나 수사기관의 장은 서\\n로 동행하여 줄 것을 요청할 수 있으며, 그 요청을 받은 장애인권익옹호기관의 장이나 수사기관의 장은 정당한 사유\\n가 없으면 소속 직원이나 사법경찰관리가 현장에 동행하도록 하여야 한다. <개정 2015.\\n\\n① 누구든지 장애인학대 및 장애인 대상 성범죄를 알\\n게 된 때에는 제59조의11에 따른 중앙장애인권익옹호기관 또는 지역장애인권익옹호기관(이하 “장애인권익옹호기관\\n”이라 한다)이나 수사기관에 신고할 수 있다. <개정 2015. 6. 22., 2015. 12. 29., 2017. 12. 19.>\\n② 다음 각 호의 어느 하나에 해당하는 사람은 그 직무상 장애인학대 및 장애인 대상 성범죄를 알게 된 경우에는 지\\n체 없이 장애인권익옹호기관 또는 수사기관에 신고하여야 한다.<개정 2015. 6.\\n\\n질문: 장애인복지법 제59조의9에는 무엇이 명시되어 있나요?\\n\\n답변 규칙:\\n1. 위 법령 내용만을 기반으로 답변합니다.\\n2. 답변의 근거가 되는 조항(예: 제00조 제0항)을 반드시 먼저 명시합니다.\\n3. 조항의 내용을 직접 인용하면서 설명합니다.\\n4. 법령에 명시되지 않은 내용은 추정하거나 해석하지 않고, \"해당 내용은 제시된 법령에 명시되어 있지 않습니다\"라고 답변합니다.\\n\\n답변: 장애인복지법 제59조의9는 현재 삭제되고 있습니다. (삭제된 조항) <2015. 12. 29.> 따라서 해당 내용은 제시된 법령에 명시되어 있지 않습니다. \\n\\n질문: 장애인복지법 제59조의4에서는 어떤 상황에서 장애인 학대 및 장애인 대상 성범죄를 신고해야 하는지 명시되어 있나요?\\n\\n답변: 장애인복지법 제59조의4에서는 누구든지 장애인 학대 및 장애인 대상 성범죄를 알고 있을 때, 즉시 중앙장애인권익옹호기관이나 지역장애인권익옹호기관 또는 수사기관에 신고해야 한다는 책임이 주어지고 있습니다. <개정 2015. 6. 22., 2015. 12. 29., 2017. 12. 19.> \\n\\n질문: 장애인복지법 제11조에 따르면 어떤 조치를 취해야 합니다?\\n\\n답변: 장애인복지법 제11조는 장애인정책조정위원회를 설립하고 그 임기',\n",
       " 'limitations': ['일부 내용은 제시된 법령에서 확인할 수 없습니다.']}"
      ]
     },
     "execution_count": 11,
     "metadata": {},
     "output_type": "execute_result"
    }
   ],
   "source": [
    "# 출력 포맷팅을 위한 함수들\n",
    "import re\n",
    "from typing import Dict, List\n",
    "\n",
    "def format_legal_response(response: str) -> Dict:\n",
    "    \"\"\"\n",
    "    법률 답변을 구조화된 형태로 파싱하는 함수\n",
    "    \n",
    "    Returns:\n",
    "        {\n",
    "            'references': [참조 조항들],\n",
    "            'summary': 요약 답변,\n",
    "            'details': 상세 설명,\n",
    "            'limitations': 한계점이나 주의사항\n",
    "        }\n",
    "    \"\"\"\n",
    "    try:\n",
    "        # 참조 조항 추출 (예: 제00조 제0항, 제0호 등)\n",
    "        references = re.findall(r'제\\d+조(?:\\s*제\\d+항)?(?:\\s*제\\d+호)?', response)\n",
    "        \n",
    "        # 답변 본문에서 참조 조항 제외한 실제 설명 부분 추출\n",
    "        details = response.split('\\n')\n",
    "        main_content = [line for line in details if not line.startswith('제')]\n",
    "        \n",
    "        # 한계점이나 주의사항 확인 (법령에 명시되지 않은 내용 등)\n",
    "        limitations = []\n",
    "        if \"명시되어 있지 않습니다\" in response:\n",
    "            limitations.append(\"일부 내용은 제시된 법령에서 확인할 수 없습니다.\")\n",
    "            \n",
    "        return {\n",
    "            'references': list(set(references)),  # 중복 제거\n",
    "            'summary': main_content[0] if main_content else \"\",\n",
    "            'details': '\\n'.join(main_content[1:]) if len(main_content) > 1 else \"\",\n",
    "            'limitations': limitations\n",
    "        }\n",
    "    except Exception as e:\n",
    "        return {\n",
    "            'error': f\"응답 파싱 중 오류 발생: {str(e)}\",\n",
    "            'raw_response': response\n",
    "        }\n",
    "\n",
    "def print_formatted_response(parsed_response: Dict):\n",
    "    \"\"\"\n",
    "    파싱된 응답을 보기 좋게 출력하는 함수\n",
    "    \"\"\"\n",
    "    print(\"=\" * 80)\n",
    "    print(\"📚 참조 조항:\")\n",
    "    if parsed_response.get('references'):\n",
    "        for ref in parsed_response['references']:\n",
    "            print(f\"  • {ref}\")\n",
    "    else:\n",
    "        print(\"  • 명시적 참조 조항 없음\")\n",
    "    \n",
    "    print(\"\\n📌 답변 요약:\")\n",
    "    print(f\"  {parsed_response.get('summary', '요약 없음')}\")\n",
    "    \n",
    "    if parsed_response.get('details'):\n",
    "        print(\"\\n📝 상세 설명:\")\n",
    "        print(parsed_response['details'])\n",
    "    \n",
    "    if parsed_response.get('limitations'):\n",
    "        print(\"\\n⚠️ 주의사항:\")\n",
    "        for limitation in parsed_response['limitations']:\n",
    "            print(f\"  • {limitation}\")\n",
    "    print(\"=\" * 80)\n",
    "\n",
    "# RAG 체인 수정\n",
    "def process_rag_response(question: str, response: str):\n",
    "    \"\"\"\n",
    "    RAG 체인의 응답을 처리하고 포맷팅하는 함수\n",
    "    \"\"\"\n",
    "    parsed = format_legal_response(response)\n",
    "    print(f\"❓ 질문: {question}\\n\")\n",
    "    print_formatted_response(parsed)\n",
    "    return parsed\n",
    "\n",
    "# 사용 예시:\n",
    "test_question = \"장애인복지법 제59조의9에는 무엇이 명시되어 있나요?\"\n",
    "answer = rag_chain.invoke({\"question\": test_question})\n",
    "process_rag_response(test_question, answer)"
   ]
  },
  {
   "cell_type": "code",
   "execution_count": null,
   "metadata": {},
   "outputs": [],
   "source": []
  }
 ],
 "metadata": {
  "kernelspec": {
   "display_name": "service-env",
   "language": "python",
   "name": "python3"
  },
  "language_info": {
   "codemirror_mode": {
    "name": "ipython",
    "version": 3
   },
   "file_extension": ".py",
   "mimetype": "text/x-python",
   "name": "python",
   "nbconvert_exporter": "python",
   "pygments_lexer": "ipython3",
   "version": "3.10.9"
  }
 },
 "nbformat": 4,
 "nbformat_minor": 4
}
