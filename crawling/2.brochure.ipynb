{
 "cells": [
  {
   "cell_type": "code",
   "execution_count": 1,
   "metadata": {},
   "outputs": [],
   "source": [
    "import chromedriver_autoinstaller\n",
    "\n",
    "path = chromedriver_autoinstaller.install()"
   ]
  },
  {
   "cell_type": "markdown",
   "metadata": {},
   "source": [
    "### bokjiro_pdf(page_url, js_function, iframe_selector, pdf_xpath, save_path)"
   ]
  },
  {
   "cell_type": "code",
   "execution_count": 3,
   "metadata": {},
   "outputs": [],
   "source": [
    "from selenium import webdriver\n",
    "from selenium.webdriver.common.by import By\n",
    "from selenium.webdriver.support.ui import WebDriverWait\n",
    "from selenium.webdriver.support import expected_conditions as EC\n",
    "import requests\n",
    "\n",
    "\n",
    "def bokjiro_pdf(page_url, js_function, iframe_selector, pdf_xpath, save_path):\n",
    "    # Selenium WebDriver 설정\n",
    "    driver = webdriver.Chrome()\n",
    "    driver.get(page_url)\n",
    "\n",
    "    # JavaScript 실행\n",
    "    driver.execute_script(js_function)\n",
    "\n",
    "    # iframe 전환 대기 (iframe이 로드될 때까지 대기)\n",
    "    iframe_locator = (By.CSS_SELECTOR, iframe_selector)  # iframe의 title 속성 기준\n",
    "    WebDriverWait(driver, 10).until(EC.presence_of_element_located(iframe_locator))\n",
    "\n",
    "    # iframe 전환\n",
    "    iframe_element = driver.find_element(*iframe_locator)\n",
    "    driver.switch_to.frame(iframe_element)\n",
    "\n",
    "    try:\n",
    "        download_link_element = WebDriverWait(driver, 10).until(\n",
    "            EC.presence_of_element_located((By.XPATH, pdf_xpath))\n",
    "        )\n",
    "        download_url = download_link_element.get_attribute(\"href\")\n",
    "        response = requests.get(download_url, stream=True)\n",
    "\n",
    "        with open(save_path, \"wb\") as file:\n",
    "            file.write(response.content)\n",
    "\n",
    "    except Exception as e:\n",
    "        print(f\"요소를 찾는 중 오류 발생: {e}\")\n",
    "\n",
    "    driver.switch_to.default_content()\n",
    "\n",
    "    driver.quit()\n"
   ]
  },
  {
   "cell_type": "code",
   "execution_count": null,
   "metadata": {},
   "outputs": [],
   "source": [
    "# 실행 예제\n",
    "page_url = \"https://www.bokjiro.go.kr/ssis-tbu/twatxa/wlfarePr/selectWlfareSubMain.do\"\n",
    "js_function = 'fnSideMenu(\"MTWAT00072\")'  # JavaScript 함수 호출\n",
    "iframe_selector = 'iframe[title=\"안내책자\"]'\n",
    "pdf_xpath = '//a[contains(@title, \"장애인\")]'\n",
    "\n",
    "save_path = \"2024_장애인_안내책자.pdf\"\n",
    "\n",
    "bokjiro_pdf(page_url, js_function, iframe_selector, pdf_xpath, save_path)"
   ]
  },
  {
   "cell_type": "markdown",
   "metadata": {},
   "source": [
    "### loader"
   ]
  },
  {
   "cell_type": "code",
   "execution_count": 5,
   "metadata": {},
   "outputs": [
    {
     "name": "stdout",
     "output_type": "stream",
     "text": [
      "문서의 수: 100\n"
     ]
    },
    {
     "data": {
      "text/plain": [
       "[Document(metadata={'source': '2024_장애인_안내책자.pdf', 'page': 0}, page_content=''),\n",
       " Document(metadata={'source': '2024_장애인_안내책자.pdf', 'page': 1}, page_content=''),\n",
       " Document(metadata={'source': '2024_장애인_안내책자.pdf', 'page': 2}, page_content='복지서비스는 365일 24시간\\n활짝 열려있습니다.\\n이 책은 \\n사회보장위원회  www.ssc.go.kr , 보건복지부  www.mohw.go.kr , \\n복지로  www.bokjiro.go.kr 에서 내려받을 수 있습니다. \\n이 책자에 수록된 내용을 활용하여 자체 제작하실 수 있습니다.\\n※ 단, 이 책에 사용된 이미지는 공공의 목적 이외(상업용·판매용)에는 사용하실 수 없습니다.\\n본 책의 내용은 2024년 4월 기준으로 작성되었습니다.\\n수록된 내용은 추후 변동될 수 있으니, 정확한 확인을 위해서는 해당 페이지의 문의처로 문의하시기 바랍니다.'),\n",
       " Document(metadata={'source': '2024_장애인_안내책자.pdf', 'page': 3}, page_content='건강\\n01 발달장애인 부모 상담 지원 08\\n02 발달재활 서비스 09\\n03 의료급여 제도 10\\n04 장애 입양 아동 의료비 지원 11\\n05 장애인 의료비 지원 12\\n06 장애인 의료재활시설 이용 13\\n07 장애친화 건강검진 14\\n08 지역장애인보건의료센터 15\\n09 청각장애인 인공달팽이관 수술비 지원 16\\n10 특수교육대상자 치료지원 서비스 17\\n임신·출산\\n11 여성장애인 출산비용 지원 18\\n12 출산비용 지원 19\\n양육\\n13 발달장애인 가족휴식 지원 20\\n14 발달장애인 긴급돌봄 시범사업 21\\n15 아이돌봄서비스 22\\n16 언어발달 지원 24\\n17 장애아 방과후 보육료 지원 25\\n18 장애아 보육료 지원 26\\n19 장애아가족 양육지원 27\\n20 장애아동 그밖의 연장형 보육료 지원(어린이집 이용 아동) 28\\n21 장애아동 양육수당 29\\n22 장애아동 입양양육 지원 30\\n23 장애아동수당 31'),\n",
       " Document(metadata={'source': '2024_장애인_안내책자.pdf', 'page': 4}, page_content='교육\\n24 국립특수학교 및 국립부설학교 특수학급 지원 32\\n25 대학의 장애학생지원센터 운영 지원 33\\n26 심신장애인 학자금대출 채무면제 34\\n27 여성장애인 교육 지원 35\\n28 장애인 운전교육 사업 36\\n29 장애인 정보화교육 37\\n30 장애학생 정보격차 해소 지원 38\\n주거\\n31 농어촌 장애인 주택 개조 39\\n32 장애인 주택 특별(우선)공급 40\\n생활지원\\n33 긴급복지 지원제도 41\\n34 무료 법률구조 제도 43\\n35 발달장애인 공공후견 지원 44\\n36 소외계층 방송접근권 보장사업(시각･청각장애인용 TV보급) 45\\n37 승용자동차 LPG 연료 사용 허용 46\\n38 장애수당 47\\n39 장애인 거주시설 실비입소 이용료 지원 48\\n40 장애인 거주시설 이용 49\\n41 장애인 건강보험료 경감 50\\n42 장애인 등록신청 51\\n43 장애인 보조기기 급여 52\\n44 장애인 보조기기 지원 53\\n45 장애인 상속세 상속공제 54\\n46 장애인 서비스지원 종합조사 신청 55')]"
      ]
     },
     "execution_count": 5,
     "metadata": {},
     "output_type": "execute_result"
    }
   ],
   "source": [
    "from langchain_community.document_loaders import PyPDFLoader\n",
    "\n",
    "loader = PyPDFLoader(save_path)\n",
    "docs = loader.load()\n",
    "\n",
    "print(f\"문서의 수: {len(docs)}\")\n",
    "docs[:5]"
   ]
  }
 ],
 "metadata": {
  "kernelspec": {
   "display_name": "zipgaza",
   "language": "python",
   "name": "python3"
  },
  "language_info": {
   "codemirror_mode": {
    "name": "ipython",
    "version": 3
   },
   "file_extension": ".py",
   "mimetype": "text/x-python",
   "name": "python",
   "nbconvert_exporter": "python",
   "pygments_lexer": "ipython3",
   "version": "3.10.13"
  }
 },
 "nbformat": 4,
 "nbformat_minor": 2
}
